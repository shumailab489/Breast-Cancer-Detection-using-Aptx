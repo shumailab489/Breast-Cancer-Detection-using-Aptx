{
 "cells": [
  {
   "cell_type": "code",
   "execution_count": 1,
   "id": "537bd888",
   "metadata": {
    "execution": {
     "iopub.execute_input": "2024-03-10T05:48:38.413089Z",
     "iopub.status.busy": "2024-03-10T05:48:38.412719Z",
     "iopub.status.idle": "2024-03-10T05:48:51.225800Z",
     "shell.execute_reply": "2024-03-10T05:48:51.224892Z"
    },
    "papermill": {
     "duration": 12.821769,
     "end_time": "2024-03-10T05:48:51.228287",
     "exception": false,
     "start_time": "2024-03-10T05:48:38.406518",
     "status": "completed"
    },
    "tags": []
   },
   "outputs": [
    {
     "name": "stderr",
     "output_type": "stream",
     "text": [
      "2024-03-10 05:48:40.742124: E external/local_xla/xla/stream_executor/cuda/cuda_dnn.cc:9261] Unable to register cuDNN factory: Attempting to register factory for plugin cuDNN when one has already been registered\n",
      "2024-03-10 05:48:40.742235: E external/local_xla/xla/stream_executor/cuda/cuda_fft.cc:607] Unable to register cuFFT factory: Attempting to register factory for plugin cuFFT when one has already been registered\n",
      "2024-03-10 05:48:40.862760: E external/local_xla/xla/stream_executor/cuda/cuda_blas.cc:1515] Unable to register cuBLAS factory: Attempting to register factory for plugin cuBLAS when one has already been registered\n"
     ]
    }
   ],
   "source": [
    "import numpy as np \n",
    "import pandas as pd \n",
    "import os\n",
    "import shutil\n",
    "import glob\n",
    "import random\n",
    "from tensorflow.keras.preprocessing.image import ImageDataGenerator\n",
    "import tensorflow as tf"
   ]
  },
  {
   "cell_type": "code",
   "execution_count": 2,
   "id": "cd850504",
   "metadata": {
    "execution": {
     "iopub.execute_input": "2024-03-10T05:48:51.238912Z",
     "iopub.status.busy": "2024-03-10T05:48:51.238336Z",
     "iopub.status.idle": "2024-03-10T05:48:51.247683Z",
     "shell.execute_reply": "2024-03-10T05:48:51.246854Z"
    },
    "papermill": {
     "duration": 0.016453,
     "end_time": "2024-03-10T05:48:51.249485",
     "exception": false,
     "start_time": "2024-03-10T05:48:51.233032",
     "status": "completed"
    },
    "tags": []
   },
   "outputs": [],
   "source": [
    "def create_data_path(base_path,input_path):\n",
    "    try:\n",
    "        os.makedirs(os.path.join(base_path,'training'))\n",
    "        os.makedirs(os.path.join(base_path, 'training/0'))\n",
    "        os.makedirs(os.path.join(base_path, 'training/1'))\n",
    "        os.makedirs(os.path.join(base_path,'validation'))\n",
    "        os.makedirs(os.path.join(base_path, 'validation/1'))\n",
    "        os.makedirs(os.path.join(base_path, 'validation/0'))\n",
    "    except:\n",
    "        print(\"the folders already exist\")\n",
    "    list_dir=glob.glob(os.path.join(input_path,'*'))\n",
    "    print(list_dir)\n",
    "    for id in list_dir:\n",
    "        list_file_0=glob.glob(os.path.join(id,'0/*'))\n",
    "        list_file_1= glob.glob(os.path.join(id, '1/*'))\n",
    "        for file_0 in list_file_0:\n",
    "            src_path = file_0\n",
    "            dst_path = os.path.join(os.path.join(base_path, 'training/0'), os.path.basename(file_0))\n",
    "            shutil.copy(src_path, dst_path)\n",
    "\n",
    "        for file_1 in list_file_1:\n",
    "            src_path = file_1\n",
    "            dst_path = os.path.join(os.path.join(base_path, 'training/1'), os.path.basename(file_1))\n",
    "            shutil.copy(src_path, dst_path)"
   ]
  },
  {
   "cell_type": "code",
   "execution_count": 3,
   "id": "6f6ebf7d",
   "metadata": {
    "execution": {
     "iopub.execute_input": "2024-03-10T05:48:51.259196Z",
     "iopub.status.busy": "2024-03-10T05:48:51.258911Z",
     "iopub.status.idle": "2024-03-10T05:48:51.263611Z",
     "shell.execute_reply": "2024-03-10T05:48:51.262835Z"
    },
    "papermill": {
     "duration": 0.011705,
     "end_time": "2024-03-10T05:48:51.265479",
     "exception": false,
     "start_time": "2024-03-10T05:48:51.253774",
     "status": "completed"
    },
    "tags": []
   },
   "outputs": [],
   "source": [
    "def remove_dir(base_path):\n",
    "    try:\n",
    "        shutil.rmtree(os.path.join(base_path,'training'))\n",
    "        shutil.rmtree(os.path.join(base_path,'validation'))\n",
    "    except Exception as e:\n",
    "        print(\"problem removing directories\")\n",
    "        print(str(e))"
   ]
  },
  {
   "cell_type": "code",
   "execution_count": 4,
   "id": "c2eccc9d",
   "metadata": {
    "execution": {
     "iopub.execute_input": "2024-03-10T05:48:51.275095Z",
     "iopub.status.busy": "2024-03-10T05:48:51.274747Z",
     "iopub.status.idle": "2024-03-10T05:48:51.280091Z",
     "shell.execute_reply": "2024-03-10T05:48:51.279162Z"
    },
    "papermill": {
     "duration": 0.012316,
     "end_time": "2024-03-10T05:48:51.282056",
     "exception": false,
     "start_time": "2024-03-10T05:48:51.269740",
     "status": "completed"
    },
    "tags": []
   },
   "outputs": [
    {
     "name": "stdout",
     "output_type": "stream",
     "text": [
      "problem removing directories\n",
      "[Errno 2] No such file or directory: '/kaggle/working/training'\n"
     ]
    }
   ],
   "source": [
    "#for cleanup\n",
    "remove_dir('/kaggle/working/')"
   ]
  },
  {
   "cell_type": "code",
   "execution_count": 5,
   "id": "caa9f71d",
   "metadata": {
    "execution": {
     "iopub.execute_input": "2024-03-10T05:48:51.291993Z",
     "iopub.status.busy": "2024-03-10T05:48:51.291513Z",
     "iopub.status.idle": "2024-03-10T06:06:11.216044Z",
     "shell.execute_reply": "2024-03-10T06:06:11.215167Z"
    },
    "papermill": {
     "duration": 1039.932124,
     "end_time": "2024-03-10T06:06:11.218529",
     "exception": false,
     "start_time": "2024-03-10T05:48:51.286405",
     "status": "completed"
    },
    "tags": []
   },
   "outputs": [
    {
     "name": "stdout",
     "output_type": "stream",
     "text": [
      "['/kaggle/input/breast-histopathology-images/10295', '/kaggle/input/breast-histopathology-images/10304', '/kaggle/input/breast-histopathology-images/12868', '/kaggle/input/breast-histopathology-images/10274', '/kaggle/input/breast-histopathology-images/12818', '/kaggle/input/breast-histopathology-images/14190', '/kaggle/input/breast-histopathology-images/12869', '/kaggle/input/breast-histopathology-images/9323', '/kaggle/input/breast-histopathology-images/10291', '/kaggle/input/breast-histopathology-images/12906', '/kaggle/input/breast-histopathology-images/9176', '/kaggle/input/breast-histopathology-images/8984', '/kaggle/input/breast-histopathology-images/10299', '/kaggle/input/breast-histopathology-images/12930', '/kaggle/input/breast-histopathology-images/9344', '/kaggle/input/breast-histopathology-images/12935', '/kaggle/input/breast-histopathology-images/12894', '/kaggle/input/breast-histopathology-images/12909', '/kaggle/input/breast-histopathology-images/9381', '/kaggle/input/breast-histopathology-images/9346', '/kaggle/input/breast-histopathology-images/9175', '/kaggle/input/breast-histopathology-images/10262', '/kaggle/input/breast-histopathology-images/8980', '/kaggle/input/breast-histopathology-images/16896', '/kaggle/input/breast-histopathology-images/12241', '/kaggle/input/breast-histopathology-images/12910', '/kaggle/input/breast-histopathology-images/13617', '/kaggle/input/breast-histopathology-images/13401', '/kaggle/input/breast-histopathology-images/12891', '/kaggle/input/breast-histopathology-images/10300', '/kaggle/input/breast-histopathology-images/9076', '/kaggle/input/breast-histopathology-images/10259', '/kaggle/input/breast-histopathology-images/9124', '/kaggle/input/breast-histopathology-images/13402', '/kaggle/input/breast-histopathology-images/12870', '/kaggle/input/breast-histopathology-images/16550', '/kaggle/input/breast-histopathology-images/10255', '/kaggle/input/breast-histopathology-images/9261', '/kaggle/input/breast-histopathology-images/15471', '/kaggle/input/breast-histopathology-images/12931', '/kaggle/input/breast-histopathology-images/12955', '/kaggle/input/breast-histopathology-images/10258', '/kaggle/input/breast-histopathology-images/13461', '/kaggle/input/breast-histopathology-images/13023', '/kaggle/input/breast-histopathology-images/9260', '/kaggle/input/breast-histopathology-images/8957', '/kaggle/input/breast-histopathology-images/9035', '/kaggle/input/breast-histopathology-images/10268', '/kaggle/input/breast-histopathology-images/13403', '/kaggle/input/breast-histopathology-images/10288', '/kaggle/input/breast-histopathology-images/9262', '/kaggle/input/breast-histopathology-images/12911', '/kaggle/input/breast-histopathology-images/9319', '/kaggle/input/breast-histopathology-images/10254', '/kaggle/input/breast-histopathology-images/13616', '/kaggle/input/breast-histopathology-images/10253', '/kaggle/input/breast-histopathology-images/8974', '/kaggle/input/breast-histopathology-images/9135', '/kaggle/input/breast-histopathology-images/10257', '/kaggle/input/breast-histopathology-images/9291', '/kaggle/input/breast-histopathology-images/9320', '/kaggle/input/breast-histopathology-images/14209', '/kaggle/input/breast-histopathology-images/14078', '/kaggle/input/breast-histopathology-images/12749', '/kaggle/input/breast-histopathology-images/9043', '/kaggle/input/breast-histopathology-images/9041', '/kaggle/input/breast-histopathology-images/8975', '/kaggle/input/breast-histopathology-images/9075', '/kaggle/input/breast-histopathology-images/13025', '/kaggle/input/breast-histopathology-images/13021', '/kaggle/input/breast-histopathology-images/13458', '/kaggle/input/breast-histopathology-images/12901', '/kaggle/input/breast-histopathology-images/16552', '/kaggle/input/breast-histopathology-images/13688', '/kaggle/input/breast-histopathology-images/15902', '/kaggle/input/breast-histopathology-images/13692', '/kaggle/input/breast-histopathology-images/12879', '/kaggle/input/breast-histopathology-images/9073', '/kaggle/input/breast-histopathology-images/15514', '/kaggle/input/breast-histopathology-images/9325', '/kaggle/input/breast-histopathology-images/10277', '/kaggle/input/breast-histopathology-images/12810', '/kaggle/input/breast-histopathology-images/8864', '/kaggle/input/breast-histopathology-images/8917', '/kaggle/input/breast-histopathology-images/14305', '/kaggle/input/breast-histopathology-images/16167', '/kaggle/input/breast-histopathology-images/13022', '/kaggle/input/breast-histopathology-images/16555', '/kaggle/input/breast-histopathology-images/12932', '/kaggle/input/breast-histopathology-images/14189', '/kaggle/input/breast-histopathology-images/8867', '/kaggle/input/breast-histopathology-images/16166', '/kaggle/input/breast-histopathology-images/10290', '/kaggle/input/breast-histopathology-images/9083', '/kaggle/input/breast-histopathology-images/15840', '/kaggle/input/breast-histopathology-images/12907', '/kaggle/input/breast-histopathology-images/12880', '/kaggle/input/breast-histopathology-images/12908', '/kaggle/input/breast-histopathology-images/13693', '/kaggle/input/breast-histopathology-images/13591', '/kaggle/input/breast-histopathology-images/15516', '/kaggle/input/breast-histopathology-images/9228', '/kaggle/input/breast-histopathology-images/14192', '/kaggle/input/breast-histopathology-images/12949', '/kaggle/input/breast-histopathology-images/10306', '/kaggle/input/breast-histopathology-images/9345', '/kaggle/input/breast-histopathology-images/14156', '/kaggle/input/breast-histopathology-images/12872', '/kaggle/input/breast-histopathology-images/9123', '/kaggle/input/breast-histopathology-images/13019', '/kaggle/input/breast-histopathology-images/9226', '/kaggle/input/breast-histopathology-images/14304', '/kaggle/input/breast-histopathology-images/10260', '/kaggle/input/breast-histopathology-images/14154', '/kaggle/input/breast-histopathology-images/15472', '/kaggle/input/breast-histopathology-images/15903', '/kaggle/input/breast-histopathology-images/12826', '/kaggle/input/breast-histopathology-images/13020', '/kaggle/input/breast-histopathology-images/16569', '/kaggle/input/breast-histopathology-images/14191', '/kaggle/input/breast-histopathology-images/16568', '/kaggle/input/breast-histopathology-images/16570', '/kaggle/input/breast-histopathology-images/13459', '/kaggle/input/breast-histopathology-images/8956', '/kaggle/input/breast-histopathology-images/13106', '/kaggle/input/breast-histopathology-images/10261', '/kaggle/input/breast-histopathology-images/9023', '/kaggle/input/breast-histopathology-images/13460', '/kaggle/input/breast-histopathology-images/16532', '/kaggle/input/breast-histopathology-images/12819', '/kaggle/input/breast-histopathology-images/12867', '/kaggle/input/breast-histopathology-images/8959', '/kaggle/input/breast-histopathology-images/9265', '/kaggle/input/breast-histopathology-images/9255', '/kaggle/input/breast-histopathology-images/14082', '/kaggle/input/breast-histopathology-images/12929', '/kaggle/input/breast-histopathology-images/8914', '/kaggle/input/breast-histopathology-images/9383', '/kaggle/input/breast-histopathology-images/14210', '/kaggle/input/breast-histopathology-images/10302', '/kaggle/input/breast-histopathology-images/12822', '/kaggle/input/breast-histopathology-images/10276', '/kaggle/input/breast-histopathology-images/10279', '/kaggle/input/breast-histopathology-images/12876', '/kaggle/input/breast-histopathology-images/10269', '/kaggle/input/breast-histopathology-images/8865', '/kaggle/input/breast-histopathology-images/13400', '/kaggle/input/breast-histopathology-images/12948', '/kaggle/input/breast-histopathology-images/12748', '/kaggle/input/breast-histopathology-images/9126', '/kaggle/input/breast-histopathology-images/9266', '/kaggle/input/breast-histopathology-images/9177', '/kaggle/input/breast-histopathology-images/8955', '/kaggle/input/breast-histopathology-images/12900', '/kaggle/input/breast-histopathology-images/9181', '/kaggle/input/breast-histopathology-images/9257', '/kaggle/input/breast-histopathology-images/9322', '/kaggle/input/breast-histopathology-images/12751', '/kaggle/input/breast-histopathology-images/9081', '/kaggle/input/breast-histopathology-images/15634', '/kaggle/input/breast-histopathology-images/10286', '/kaggle/input/breast-histopathology-images/14213', '/kaggle/input/breast-histopathology-images/9256', '/kaggle/input/breast-histopathology-images/10308', '/kaggle/input/breast-histopathology-images/16165', '/kaggle/input/breast-histopathology-images/12823', '/kaggle/input/breast-histopathology-images/9225', '/kaggle/input/breast-histopathology-images/9227', '/kaggle/input/breast-histopathology-images/16551', '/kaggle/input/breast-histopathology-images/13613', '/kaggle/input/breast-histopathology-images/14306', '/kaggle/input/breast-histopathology-images/16085', '/kaggle/input/breast-histopathology-images/16534', '/kaggle/input/breast-histopathology-images/14188', '/kaggle/input/breast-histopathology-images/14212', '/kaggle/input/breast-histopathology-images/12824', '/kaggle/input/breast-histopathology-images/16554', '/kaggle/input/breast-histopathology-images/13691', '/kaggle/input/breast-histopathology-images/13916', '/kaggle/input/breast-histopathology-images/12877', '/kaggle/input/breast-histopathology-images/13024', '/kaggle/input/breast-histopathology-images/10264', '/kaggle/input/breast-histopathology-images/12884', '/kaggle/input/breast-histopathology-images/12750', '/kaggle/input/breast-histopathology-images/14081', '/kaggle/input/breast-histopathology-images/15473', '/kaggle/input/breast-histopathology-images/15839', '/kaggle/input/breast-histopathology-images/12896', '/kaggle/input/breast-histopathology-images/9267', '/kaggle/input/breast-histopathology-images/10278', '/kaggle/input/breast-histopathology-images/16533', '/kaggle/input/breast-histopathology-images/13404', '/kaggle/input/breast-histopathology-images/12893', '/kaggle/input/breast-histopathology-images/12892', '/kaggle/input/breast-histopathology-images/9125', '/kaggle/input/breast-histopathology-images/9029', '/kaggle/input/breast-histopathology-images/14211', '/kaggle/input/breast-histopathology-images/12626', '/kaggle/input/breast-histopathology-images/10275', '/kaggle/input/breast-histopathology-images/9174', '/kaggle/input/breast-histopathology-images/9250', '/kaggle/input/breast-histopathology-images/15515', '/kaggle/input/breast-histopathology-images/9173', '/kaggle/input/breast-histopathology-images/12895', '/kaggle/input/breast-histopathology-images/12897', '/kaggle/input/breast-histopathology-images/12882', '/kaggle/input/breast-histopathology-images/12875', '/kaggle/input/breast-histopathology-images/12905', '/kaggle/input/breast-histopathology-images/13666', '/kaggle/input/breast-histopathology-images/15633', '/kaggle/input/breast-histopathology-images/8863', '/kaggle/input/breast-histopathology-images/12934', '/kaggle/input/breast-histopathology-images/12890', '/kaggle/input/breast-histopathology-images/10305', '/kaggle/input/breast-histopathology-images/9036', '/kaggle/input/breast-histopathology-images/12883', '/kaggle/input/breast-histopathology-images/10307', '/kaggle/input/breast-histopathology-images/14153', '/kaggle/input/breast-histopathology-images/16531', '/kaggle/input/breast-histopathology-images/15632', '/kaggle/input/breast-histopathology-images/12820', '/kaggle/input/breast-histopathology-images/10272', '/kaggle/input/breast-histopathology-images/12871', '/kaggle/input/breast-histopathology-images/9382', '/kaggle/input/breast-histopathology-images/10256', '/kaggle/input/breast-histopathology-images/9258', '/kaggle/input/breast-histopathology-images/16014', '/kaggle/input/breast-histopathology-images/16895', '/kaggle/input/breast-histopathology-images/13462', '/kaggle/input/breast-histopathology-images/14079', '/kaggle/input/breast-histopathology-images/12817', '/kaggle/input/breast-histopathology-images/8918', '/kaggle/input/breast-histopathology-images/8916', '/kaggle/input/breast-histopathology-images/15510', '/kaggle/input/breast-histopathology-images/12878', '/kaggle/input/breast-histopathology-images/12242', '/kaggle/input/breast-histopathology-images/14321', '/kaggle/input/breast-histopathology-images/9044', '/kaggle/input/breast-histopathology-images/9324', '/kaggle/input/breast-histopathology-images/12933', '/kaggle/input/breast-histopathology-images/8951', '/kaggle/input/breast-histopathology-images/10273', '/kaggle/input/breast-histopathology-images/12811', '/kaggle/input/breast-histopathology-images/9078', '/kaggle/input/breast-histopathology-images/14157', '/kaggle/input/breast-histopathology-images/10282', '/kaggle/input/breast-histopathology-images/9290', '/kaggle/input/breast-histopathology-images/13694', '/kaggle/input/breast-histopathology-images/9321', '/kaggle/input/breast-histopathology-images/8950', '/kaggle/input/breast-histopathology-images/15513', '/kaggle/input/breast-histopathology-images/10285', '/kaggle/input/breast-histopathology-images/9022', '/kaggle/input/breast-histopathology-images/16553', '/kaggle/input/breast-histopathology-images/8913', '/kaggle/input/breast-histopathology-images/13018', '/kaggle/input/breast-histopathology-images/12821', '/kaggle/input/breast-histopathology-images/12951', '/kaggle/input/breast-histopathology-images/12898', '/kaggle/input/breast-histopathology-images/13687', '/kaggle/input/breast-histopathology-images/9178', '/kaggle/input/breast-histopathology-images/13689', '/kaggle/input/breast-histopathology-images/12947', '/kaggle/input/breast-histopathology-images/15512', '/kaggle/input/breast-histopathology-images/10303', '/kaggle/input/breast-histopathology-images/12881', '/kaggle/input/breast-histopathology-images/12886', '/kaggle/input/breast-histopathology-images/12752', '/kaggle/input/breast-histopathology-images/9347', '/kaggle/input/breast-histopathology-images/10301', '/kaggle/input/breast-histopathology-images/IDC_regular_ps50_idx5', '/kaggle/input/breast-histopathology-images/9254', '/kaggle/input/breast-histopathology-images/10293', '/kaggle/input/breast-histopathology-images/12954', '/kaggle/input/breast-histopathology-images/9259', '/kaggle/input/breast-histopathology-images/14155', '/kaggle/input/breast-histopathology-images/9077', '/kaggle/input/breast-histopathology-images/10292', '/kaggle/input/breast-histopathology-images/9037', '/kaggle/input/breast-histopathology-images/12873']\n"
     ]
    }
   ],
   "source": [
    "create_data_path('/kaggle/working/','/kaggle/input/breast-histopathology-images/')"
   ]
  },
  {
   "cell_type": "code",
   "execution_count": 6,
   "id": "ad446f15",
   "metadata": {
    "execution": {
     "iopub.execute_input": "2024-03-10T06:06:11.230066Z",
     "iopub.status.busy": "2024-03-10T06:06:11.229384Z",
     "iopub.status.idle": "2024-03-10T06:06:11.236792Z",
     "shell.execute_reply": "2024-03-10T06:06:11.235996Z"
    },
    "papermill": {
     "duration": 0.014986,
     "end_time": "2024-03-10T06:06:11.238672",
     "exception": false,
     "start_time": "2024-03-10T06:06:11.223686",
     "status": "completed"
    },
    "tags": []
   },
   "outputs": [],
   "source": [
    "def split_training_validation(base_path,split_size):\n",
    "    list_file_0=glob.glob(os.path.join(base_path,'training/0/*'))\n",
    "    list_file_1 = glob.glob(os.path.join(base_path, 'training/1/*'))\n",
    "    tot_file=list_file_1+list_file_0\n",
    "    random.shuffle(tot_file)\n",
    "    training_set=tot_file[0:int(len(tot_file)*split_size)]\n",
    "    validation_set=tot_file[int(len(tot_file)*split_size):]\n",
    "    for file in validation_set:\n",
    "        if file[-5]=='0':\n",
    "            dst_path = os.path.join(os.path.join(base_path, 'validation/0'), os.path.basename(file))\n",
    "            shutil.copy(file, dst_path)\n",
    "        elif file[-5]=='1':\n",
    "            dst_path = os.path.join(os.path.join(base_path, 'validation/1'), os.path.basename(file))\n",
    "            shutil.copy(file, dst_path)"
   ]
  },
  {
   "cell_type": "code",
   "execution_count": 7,
   "id": "17728a2e",
   "metadata": {
    "execution": {
     "iopub.execute_input": "2024-03-10T06:06:11.249261Z",
     "iopub.status.busy": "2024-03-10T06:06:11.248773Z",
     "iopub.status.idle": "2024-03-10T06:06:19.736875Z",
     "shell.execute_reply": "2024-03-10T06:06:19.735874Z"
    },
    "papermill": {
     "duration": 8.49574,
     "end_time": "2024-03-10T06:06:19.739232",
     "exception": false,
     "start_time": "2024-03-10T06:06:11.243492",
     "status": "completed"
    },
    "tags": []
   },
   "outputs": [],
   "source": [
    "training_split=0.8\n",
    "split_training_validation('/kaggle/working/',training_split)"
   ]
  },
  {
   "cell_type": "code",
   "execution_count": 8,
   "id": "4062ca7b",
   "metadata": {
    "execution": {
     "iopub.execute_input": "2024-03-10T06:06:19.750210Z",
     "iopub.status.busy": "2024-03-10T06:06:19.749923Z",
     "iopub.status.idle": "2024-03-10T06:06:19.756382Z",
     "shell.execute_reply": "2024-03-10T06:06:19.755373Z"
    },
    "papermill": {
     "duration": 0.014041,
     "end_time": "2024-03-10T06:06:19.758273",
     "exception": false,
     "start_time": "2024-03-10T06:06:19.744232",
     "status": "completed"
    },
    "tags": []
   },
   "outputs": [],
   "source": [
    "def create_data_generator(base_path,target_size):\n",
    "    # All images will be rescaled by 1./255\n",
    "    train_datagen = ImageDataGenerator(rescale=1 / 255)\n",
    "    validation_datagen = ImageDataGenerator(rescale=1 / 255)\n",
    "\n",
    "    # Flow training images in batches of 128 using train_datagen generator\n",
    "    train_generator = train_datagen.flow_from_directory(\n",
    "        os.path.join(base_path,'training/'),  # This is the source directory for training images\n",
    "        target_size=target_size,  \n",
    "        batch_size=64,\n",
    "        # Since you use binary_crossentropy loss, you need binary labels\n",
    "        class_mode='binary')\n",
    "\n",
    "    # Flow validation images in batches of 128 using validation_datagen generator\n",
    "    validation_generator = validation_datagen.flow_from_directory(\n",
    "        os.path.join(base_path,'validation/'),  # This is the source directory for validation images\n",
    "        target_size=target_size,  \n",
    "        batch_size=64,\n",
    "        # Since you use binary_crossentropy loss, you need binary labels\n",
    "        class_mode='binary')\n",
    "    return train_generator,validation_generator"
   ]
  },
  {
   "cell_type": "code",
   "execution_count": 9,
   "id": "7338d391",
   "metadata": {
    "execution": {
     "iopub.execute_input": "2024-03-10T06:06:19.768647Z",
     "iopub.status.busy": "2024-03-10T06:06:19.768366Z",
     "iopub.status.idle": "2024-03-10T06:06:28.042015Z",
     "shell.execute_reply": "2024-03-10T06:06:28.041190Z"
    },
    "papermill": {
     "duration": 8.281453,
     "end_time": "2024-03-10T06:06:28.044361",
     "exception": false,
     "start_time": "2024-03-10T06:06:19.762908",
     "status": "completed"
    },
    "tags": []
   },
   "outputs": [
    {
     "name": "stdout",
     "output_type": "stream",
     "text": [
      "Found 277524 images belonging to 2 classes.\n",
      "Found 55505 images belonging to 2 classes.\n"
     ]
    }
   ],
   "source": [
    "train_generator,validation_generator=create_data_generator('/kaggle/working/',(50,50))"
   ]
  },
  {
   "cell_type": "code",
   "execution_count": 10,
   "id": "cf8ffbf2",
   "metadata": {
    "execution": {
     "iopub.execute_input": "2024-03-10T06:06:28.055448Z",
     "iopub.status.busy": "2024-03-10T06:06:28.055149Z",
     "iopub.status.idle": "2024-03-10T06:06:28.060399Z",
     "shell.execute_reply": "2024-03-10T06:06:28.059547Z"
    },
    "papermill": {
     "duration": 0.012924,
     "end_time": "2024-03-10T06:06:28.062290",
     "exception": false,
     "start_time": "2024-03-10T06:06:28.049366",
     "status": "completed"
    },
    "tags": []
   },
   "outputs": [],
   "source": [
    "class CustomCallback(tf.keras.callbacks.Callback):\n",
    "\n",
    "    def on_epoch_end(self, epoch, logs=None):\n",
    "        keys = list(logs.keys())\n",
    "        if (logs.get('val_accuracy') > 0.95):\n",
    "            print(\"\\nReached 95% accuracy so cancelling training!\")\n",
    "            self.model.stop_training = True"
   ]
  },
  {
   "cell_type": "code",
   "execution_count": 11,
   "id": "25c31d62",
   "metadata": {
    "execution": {
     "iopub.execute_input": "2024-03-10T06:06:28.072916Z",
     "iopub.status.busy": "2024-03-10T06:06:28.072614Z",
     "iopub.status.idle": "2024-03-10T06:06:28.083108Z",
     "shell.execute_reply": "2024-03-10T06:06:28.082237Z"
    },
    "papermill": {
     "duration": 0.018081,
     "end_time": "2024-03-10T06:06:28.085078",
     "exception": false,
     "start_time": "2024-03-10T06:06:28.066997",
     "status": "completed"
    },
    "tags": []
   },
   "outputs": [],
   "source": [
    "# Function to define Swish Activation\n",
    "def swish(x):\n",
    "    return x * tf.keras.activations.sigmoid(x)\n",
    "\n",
    "def create_model(input_shape):\n",
    "    model = tf.keras.models.Sequential([\n",
    "        \n",
    "        # This is the first convolution\n",
    "        tf.keras.layers.Conv2D(64, (3, 3), activation=swish, input_shape=input_shape),\n",
    "        tf.keras.layers.BatchNormalization(),\n",
    "        tf.keras.layers.MaxPooling2D(2, 2),\n",
    "        tf.keras.layers.Conv2D(128, (3, 3), activation=swish, input_shape=input_shape),\n",
    "        tf.keras.layers.BatchNormalization(),\n",
    "        tf.keras.layers.MaxPooling2D(2, 2),\n",
    "        tf.keras.layers.Conv2D(256, (3, 3), activation=swish, input_shape=input_shape),\n",
    "        tf.keras.layers.BatchNormalization(),\n",
    "        tf.keras.layers.MaxPooling2D(2, 2),\n",
    "        # Flatten the results to feed into a DNN\n",
    "        tf.keras.layers.Flatten(),\n",
    "        # 512 neuron hidden layer\n",
    "        tf.keras.layers.Dense(128, activation=swish),\n",
    "        tf.keras.layers.Dense(512, activation=swish),\n",
    "        tf.keras.layers.Dropout(0.4),\n",
    "\n",
    "        # Only 1 output neuron. \n",
    "        tf.keras.layers.Dense(1, activation='sigmoid')\n",
    "    ])\n",
    "    my_cb=CustomCallback()\n",
    "    \n",
    "    reduce_lr=tf.keras.callbacks.ReduceLROnPlateau(monitor='val_loss',verbose=1)\n",
    "\n",
    "    model_cp=tf.keras.callbacks.ModelCheckpoint('/kaggle/output',verbose=1)\n",
    "    model.compile(loss='binary_crossentropy',\n",
    "                  optimizer=tf.keras.optimizers.Adam(learning_rate=0.0001),\n",
    "                  metrics=['accuracy'])\n",
    "    return model,[reduce_lr,model_cp]\n"
   ]
  },
  {
   "cell_type": "code",
   "execution_count": 12,
   "id": "884bb0c9",
   "metadata": {
    "execution": {
     "iopub.execute_input": "2024-03-10T06:06:28.095742Z",
     "iopub.status.busy": "2024-03-10T06:06:28.095469Z",
     "iopub.status.idle": "2024-03-10T08:00:11.295736Z",
     "shell.execute_reply": "2024-03-10T08:00:11.294979Z"
    },
    "papermill": {
     "duration": 6823.207984,
     "end_time": "2024-03-10T08:00:11.297891",
     "exception": false,
     "start_time": "2024-03-10T06:06:28.089907",
     "status": "completed"
    },
    "tags": []
   },
   "outputs": [
    {
     "name": "stdout",
     "output_type": "stream",
     "text": [
      "Model: \"sequential\"\n",
      "_________________________________________________________________\n",
      " Layer (type)                Output Shape              Param #   \n",
      "=================================================================\n",
      " conv2d (Conv2D)             (None, 48, 48, 64)        1792      \n",
      "                                                                 \n",
      " batch_normalization (Batch  (None, 48, 48, 64)        256       \n",
      " Normalization)                                                  \n",
      "                                                                 \n",
      " max_pooling2d (MaxPooling2  (None, 24, 24, 64)        0         \n",
      " D)                                                              \n",
      "                                                                 \n",
      " conv2d_1 (Conv2D)           (None, 22, 22, 128)       73856     \n",
      "                                                                 \n",
      " batch_normalization_1 (Bat  (None, 22, 22, 128)       512       \n",
      " chNormalization)                                                \n",
      "                                                                 \n",
      " max_pooling2d_1 (MaxPoolin  (None, 11, 11, 128)       0         \n",
      " g2D)                                                            \n",
      "                                                                 \n",
      " conv2d_2 (Conv2D)           (None, 9, 9, 256)         295168    \n",
      "                                                                 \n",
      " batch_normalization_2 (Bat  (None, 9, 9, 256)         1024      \n",
      " chNormalization)                                                \n",
      "                                                                 \n",
      " max_pooling2d_2 (MaxPoolin  (None, 4, 4, 256)         0         \n",
      " g2D)                                                            \n",
      "                                                                 \n",
      " flatten (Flatten)           (None, 4096)              0         \n",
      "                                                                 \n",
      " dense (Dense)               (None, 128)               524416    \n",
      "                                                                 \n",
      " dense_1 (Dense)             (None, 512)               66048     \n",
      "                                                                 \n",
      " dropout (Dropout)           (None, 512)               0         \n",
      "                                                                 \n",
      " dense_2 (Dense)             (None, 1)                 513       \n",
      "                                                                 \n",
      "=================================================================\n",
      "Total params: 963585 (3.68 MB)\n",
      "Trainable params: 962689 (3.67 MB)\n",
      "Non-trainable params: 896 (3.50 KB)\n",
      "_________________________________________________________________\n",
      "Epoch 1/50\n"
     ]
    },
    {
     "name": "stderr",
     "output_type": "stream",
     "text": [
      "WARNING: All log messages before absl::InitializeLog() is called are written to STDERR\n",
      "I0000 00:00:1710050793.939119      81 device_compiler.h:186] Compiled cluster using XLA!  This line is logged at most once for the lifetime of the process.\n"
     ]
    },
    {
     "name": "stdout",
     "output_type": "stream",
     "text": [
      "4337/4337 [==============================] - ETA: 0s - loss: 0.3396 - accuracy: 0.8566\n",
      "Epoch 1: saving model to /kaggle/output\n",
      "4337/4337 [==============================] - 150s 33ms/step - loss: 0.3396 - accuracy: 0.8566 - val_loss: 0.3361 - val_accuracy: 0.8616 - lr: 1.0000e-04\n",
      "Epoch 2/50\n",
      "4335/4337 [============================>.] - ETA: 0s - loss: 0.3044 - accuracy: 0.8721\n",
      "Epoch 2: saving model to /kaggle/output\n",
      "4337/4337 [==============================] - 136s 31ms/step - loss: 0.3044 - accuracy: 0.8721 - val_loss: 0.4026 - val_accuracy: 0.8397 - lr: 1.0000e-04\n",
      "Epoch 3/50\n",
      "4337/4337 [==============================] - ETA: 0s - loss: 0.2830 - accuracy: 0.8811\n",
      "Epoch 3: saving model to /kaggle/output\n",
      "4337/4337 [==============================] - 135s 31ms/step - loss: 0.2830 - accuracy: 0.8811 - val_loss: 0.3591 - val_accuracy: 0.8427 - lr: 1.0000e-04\n",
      "Epoch 4/50\n",
      "4335/4337 [============================>.] - ETA: 0s - loss: 0.2621 - accuracy: 0.8905\n",
      "Epoch 4: saving model to /kaggle/output\n",
      "4337/4337 [==============================] - 134s 31ms/step - loss: 0.2621 - accuracy: 0.8905 - val_loss: 0.7769 - val_accuracy: 0.6059 - lr: 1.0000e-04\n",
      "Epoch 5/50\n",
      "4337/4337 [==============================] - ETA: 0s - loss: 0.2369 - accuracy: 0.9023\n",
      "Epoch 5: saving model to /kaggle/output\n",
      "4337/4337 [==============================] - 135s 31ms/step - loss: 0.2369 - accuracy: 0.9023 - val_loss: 0.3188 - val_accuracy: 0.8813 - lr: 1.0000e-04\n",
      "Epoch 6/50\n",
      "4335/4337 [============================>.] - ETA: 0s - loss: 0.2070 - accuracy: 0.9155\n",
      "Epoch 6: saving model to /kaggle/output\n",
      "4337/4337 [==============================] - 134s 31ms/step - loss: 0.2070 - accuracy: 0.9155 - val_loss: 0.2905 - val_accuracy: 0.8823 - lr: 1.0000e-04\n",
      "Epoch 7/50\n",
      "4337/4337 [==============================] - ETA: 0s - loss: 0.1703 - accuracy: 0.9319\n",
      "Epoch 7: saving model to /kaggle/output\n",
      "4337/4337 [==============================] - 135s 31ms/step - loss: 0.1703 - accuracy: 0.9319 - val_loss: 0.1594 - val_accuracy: 0.9381 - lr: 1.0000e-04\n",
      "Epoch 8/50\n",
      "4337/4337 [==============================] - ETA: 0s - loss: 0.1335 - accuracy: 0.9473\n",
      "Epoch 8: saving model to /kaggle/output\n",
      "4337/4337 [==============================] - 134s 31ms/step - loss: 0.1335 - accuracy: 0.9473 - val_loss: 0.1594 - val_accuracy: 0.9339 - lr: 1.0000e-04\n",
      "Epoch 9/50\n",
      "4336/4337 [============================>.] - ETA: 0s - loss: 0.1045 - accuracy: 0.9591\n",
      "Epoch 9: saving model to /kaggle/output\n",
      "4337/4337 [==============================] - 134s 31ms/step - loss: 0.1045 - accuracy: 0.9591 - val_loss: 0.3095 - val_accuracy: 0.9063 - lr: 1.0000e-04\n",
      "Epoch 10/50\n",
      "4337/4337 [==============================] - ETA: 0s - loss: 0.0818 - accuracy: 0.9685\n",
      "Epoch 10: saving model to /kaggle/output\n",
      "4337/4337 [==============================] - 138s 32ms/step - loss: 0.0818 - accuracy: 0.9685 - val_loss: 0.5742 - val_accuracy: 0.8138 - lr: 1.0000e-04\n",
      "Epoch 11/50\n",
      "4337/4337 [==============================] - ETA: 0s - loss: 0.0684 - accuracy: 0.9737\n",
      "Epoch 11: saving model to /kaggle/output\n",
      "4337/4337 [==============================] - 133s 31ms/step - loss: 0.0684 - accuracy: 0.9737 - val_loss: 0.1917 - val_accuracy: 0.9479 - lr: 1.0000e-04\n",
      "Epoch 12/50\n",
      "4336/4337 [============================>.] - ETA: 0s - loss: 0.0580 - accuracy: 0.9779\n",
      "Epoch 12: saving model to /kaggle/output\n",
      "4337/4337 [==============================] - 135s 31ms/step - loss: 0.0580 - accuracy: 0.9779 - val_loss: 0.2750 - val_accuracy: 0.9087 - lr: 1.0000e-04\n",
      "Epoch 13/50\n",
      "4336/4337 [============================>.] - ETA: 0s - loss: 0.0512 - accuracy: 0.9810\n",
      "Epoch 13: saving model to /kaggle/output\n",
      "4337/4337 [==============================] - 136s 31ms/step - loss: 0.0512 - accuracy: 0.9809 - val_loss: 0.1916 - val_accuracy: 0.9393 - lr: 1.0000e-04\n",
      "Epoch 14/50\n",
      "4337/4337 [==============================] - ETA: 0s - loss: 0.0461 - accuracy: 0.9827\n",
      "Epoch 14: saving model to /kaggle/output\n",
      "4337/4337 [==============================] - 134s 31ms/step - loss: 0.0461 - accuracy: 0.9827 - val_loss: 0.1818 - val_accuracy: 0.9360 - lr: 1.0000e-04\n",
      "Epoch 15/50\n",
      "4337/4337 [==============================] - ETA: 0s - loss: 0.0412 - accuracy: 0.9848\n",
      "Epoch 15: saving model to /kaggle/output\n",
      "4337/4337 [==============================] - 134s 31ms/step - loss: 0.0412 - accuracy: 0.9848 - val_loss: 0.1599 - val_accuracy: 0.9419 - lr: 1.0000e-04\n",
      "Epoch 16/50\n",
      "4337/4337 [==============================] - ETA: 0s - loss: 0.0375 - accuracy: 0.9862\n",
      "Epoch 16: saving model to /kaggle/output\n",
      "4337/4337 [==============================] - 135s 31ms/step - loss: 0.0375 - accuracy: 0.9862 - val_loss: 0.3285 - val_accuracy: 0.8964 - lr: 1.0000e-04\n",
      "Epoch 17/50\n",
      "4336/4337 [============================>.] - ETA: 0s - loss: 0.0340 - accuracy: 0.9873\n",
      "Epoch 17: saving model to /kaggle/output\n",
      "4337/4337 [==============================] - 137s 31ms/step - loss: 0.0340 - accuracy: 0.9873 - val_loss: 0.1274 - val_accuracy: 0.9666 - lr: 1.0000e-04\n",
      "Epoch 18/50\n",
      "4337/4337 [==============================] - ETA: 0s - loss: 0.0320 - accuracy: 0.9882\n",
      "Epoch 18: saving model to /kaggle/output\n",
      "4337/4337 [==============================] - 134s 31ms/step - loss: 0.0320 - accuracy: 0.9882 - val_loss: 0.2505 - val_accuracy: 0.9307 - lr: 1.0000e-04\n",
      "Epoch 19/50\n",
      "4336/4337 [============================>.] - ETA: 0s - loss: 0.0301 - accuracy: 0.9890\n",
      "Epoch 19: saving model to /kaggle/output\n",
      "4337/4337 [==============================] - 135s 31ms/step - loss: 0.0301 - accuracy: 0.9890 - val_loss: 0.2606 - val_accuracy: 0.9461 - lr: 1.0000e-04\n",
      "Epoch 20/50\n",
      "4336/4337 [============================>.] - ETA: 0s - loss: 0.0285 - accuracy: 0.9896\n",
      "Epoch 20: saving model to /kaggle/output\n",
      "4337/4337 [==============================] - 135s 31ms/step - loss: 0.0285 - accuracy: 0.9896 - val_loss: 0.2152 - val_accuracy: 0.9537 - lr: 1.0000e-04\n",
      "Epoch 21/50\n",
      "4335/4337 [============================>.] - ETA: 0s - loss: 0.0264 - accuracy: 0.9904\n",
      "Epoch 21: saving model to /kaggle/output\n",
      "4337/4337 [==============================] - 136s 31ms/step - loss: 0.0264 - accuracy: 0.9904 - val_loss: 0.1097 - val_accuracy: 0.9688 - lr: 1.0000e-04\n",
      "Epoch 22/50\n",
      "4337/4337 [==============================] - ETA: 0s - loss: 0.0252 - accuracy: 0.9909\n",
      "Epoch 22: saving model to /kaggle/output\n",
      "4337/4337 [==============================] - 138s 32ms/step - loss: 0.0252 - accuracy: 0.9909 - val_loss: 0.0723 - val_accuracy: 0.9723 - lr: 1.0000e-04\n",
      "Epoch 23/50\n",
      "4337/4337 [==============================] - ETA: 0s - loss: 0.0244 - accuracy: 0.9911\n",
      "Epoch 23: saving model to /kaggle/output\n",
      "4337/4337 [==============================] - 139s 32ms/step - loss: 0.0244 - accuracy: 0.9911 - val_loss: 0.6356 - val_accuracy: 0.9032 - lr: 1.0000e-04\n",
      "Epoch 24/50\n",
      "4337/4337 [==============================] - ETA: 0s - loss: 0.0230 - accuracy: 0.9916\n",
      "Epoch 24: saving model to /kaggle/output\n",
      "4337/4337 [==============================] - 136s 31ms/step - loss: 0.0230 - accuracy: 0.9916 - val_loss: 0.2637 - val_accuracy: 0.9384 - lr: 1.0000e-04\n",
      "Epoch 25/50\n",
      "4335/4337 [============================>.] - ETA: 0s - loss: 0.0218 - accuracy: 0.9921\n",
      "Epoch 25: saving model to /kaggle/output\n",
      "4337/4337 [==============================] - 138s 32ms/step - loss: 0.0218 - accuracy: 0.9921 - val_loss: 0.1771 - val_accuracy: 0.9519 - lr: 1.0000e-04\n",
      "Epoch 26/50\n",
      "4337/4337 [==============================] - ETA: 0s - loss: 0.0206 - accuracy: 0.9927\n",
      "Epoch 26: saving model to /kaggle/output\n",
      "4337/4337 [==============================] - 135s 31ms/step - loss: 0.0206 - accuracy: 0.9927 - val_loss: 0.1629 - val_accuracy: 0.9516 - lr: 1.0000e-04\n",
      "Epoch 27/50\n",
      "4336/4337 [============================>.] - ETA: 0s - loss: 0.0205 - accuracy: 0.9924\n",
      "Epoch 27: saving model to /kaggle/output\n",
      "4337/4337 [==============================] - 136s 31ms/step - loss: 0.0205 - accuracy: 0.9924 - val_loss: 0.2206 - val_accuracy: 0.9520 - lr: 1.0000e-04\n",
      "Epoch 28/50\n",
      "4336/4337 [============================>.] - ETA: 0s - loss: 0.0202 - accuracy: 0.9927\n",
      "Epoch 28: saving model to /kaggle/output\n",
      "4337/4337 [==============================] - 137s 32ms/step - loss: 0.0202 - accuracy: 0.9927 - val_loss: 0.1566 - val_accuracy: 0.9655 - lr: 1.0000e-04\n",
      "Epoch 29/50\n",
      "4337/4337 [==============================] - ETA: 0s - loss: 0.0179 - accuracy: 0.9934\n",
      "Epoch 29: saving model to /kaggle/output\n",
      "4337/4337 [==============================] - 137s 31ms/step - loss: 0.0179 - accuracy: 0.9934 - val_loss: 0.1615 - val_accuracy: 0.9511 - lr: 1.0000e-04\n",
      "Epoch 30/50\n",
      "4337/4337 [==============================] - ETA: 0s - loss: 0.0179 - accuracy: 0.9936\n",
      "Epoch 30: saving model to /kaggle/output\n",
      "4337/4337 [==============================] - 137s 32ms/step - loss: 0.0179 - accuracy: 0.9936 - val_loss: 0.2164 - val_accuracy: 0.9565 - lr: 1.0000e-04\n",
      "Epoch 31/50\n",
      "4336/4337 [============================>.] - ETA: 0s - loss: 0.0180 - accuracy: 0.9938\n",
      "Epoch 31: saving model to /kaggle/output\n",
      "4337/4337 [==============================] - 137s 32ms/step - loss: 0.0180 - accuracy: 0.9938 - val_loss: 0.1137 - val_accuracy: 0.9728 - lr: 1.0000e-04\n",
      "Epoch 32/50\n",
      "4337/4337 [==============================] - ETA: 0s - loss: 0.0173 - accuracy: 0.9938\n",
      "Epoch 32: ReduceLROnPlateau reducing learning rate to 9.999999747378752e-06.\n",
      "\n",
      "Epoch 32: saving model to /kaggle/output\n",
      "4337/4337 [==============================] - 137s 32ms/step - loss: 0.0173 - accuracy: 0.9938 - val_loss: 0.2292 - val_accuracy: 0.9484 - lr: 1.0000e-04\n",
      "Epoch 33/50\n",
      "4336/4337 [============================>.] - ETA: 0s - loss: 0.0060 - accuracy: 0.9981\n",
      "Epoch 33: saving model to /kaggle/output\n",
      "4337/4337 [==============================] - 135s 31ms/step - loss: 0.0060 - accuracy: 0.9981 - val_loss: 9.8279e-04 - val_accuracy: 1.0000 - lr: 1.0000e-05\n",
      "Epoch 34/50\n",
      "4337/4337 [==============================] - ETA: 0s - loss: 0.0023 - accuracy: 0.9995\n",
      "Epoch 34: saving model to /kaggle/output\n",
      "4337/4337 [==============================] - 135s 31ms/step - loss: 0.0023 - accuracy: 0.9995 - val_loss: 9.0104e-04 - val_accuracy: 0.9999 - lr: 1.0000e-05\n",
      "Epoch 35/50\n",
      "4336/4337 [============================>.] - ETA: 0s - loss: 0.0015 - accuracy: 0.9996\n",
      "Epoch 35: saving model to /kaggle/output\n",
      "4337/4337 [==============================] - 141s 32ms/step - loss: 0.0015 - accuracy: 0.9996 - val_loss: 2.1107e-04 - val_accuracy: 1.0000 - lr: 1.0000e-05\n",
      "Epoch 36/50\n",
      "4336/4337 [============================>.] - ETA: 0s - loss: 9.3487e-04 - accuracy: 0.9998\n",
      "Epoch 36: saving model to /kaggle/output\n",
      "4337/4337 [==============================] - 137s 32ms/step - loss: 9.3577e-04 - accuracy: 0.9998 - val_loss: 6.7040e-04 - val_accuracy: 0.9998 - lr: 1.0000e-05\n",
      "Epoch 37/50\n",
      "4337/4337 [==============================] - ETA: 0s - loss: 7.1351e-04 - accuracy: 0.9998\n",
      "Epoch 37: saving model to /kaggle/output\n",
      "4337/4337 [==============================] - 141s 32ms/step - loss: 7.1351e-04 - accuracy: 0.9998 - val_loss: 9.5003e-05 - val_accuracy: 1.0000 - lr: 1.0000e-05\n",
      "Epoch 38/50\n",
      "4337/4337 [==============================] - ETA: 0s - loss: 6.2268e-04 - accuracy: 0.9998\n",
      "Epoch 38: saving model to /kaggle/output\n",
      "4337/4337 [==============================] - 139s 32ms/step - loss: 6.2268e-04 - accuracy: 0.9998 - val_loss: 6.3050e-04 - val_accuracy: 0.9998 - lr: 1.0000e-05\n",
      "Epoch 39/50\n",
      "4335/4337 [============================>.] - ETA: 0s - loss: 4.6100e-04 - accuracy: 0.9999\n",
      "Epoch 39: saving model to /kaggle/output\n",
      "4337/4337 [==============================] - 138s 32ms/step - loss: 4.6081e-04 - accuracy: 0.9999 - val_loss: 5.1957e-05 - val_accuracy: 1.0000 - lr: 1.0000e-05\n",
      "Epoch 40/50\n",
      "4336/4337 [============================>.] - ETA: 0s - loss: 4.5523e-04 - accuracy: 0.9999\n",
      "Epoch 40: saving model to /kaggle/output\n",
      "4337/4337 [==============================] - 137s 32ms/step - loss: 4.5513e-04 - accuracy: 0.9999 - val_loss: 2.8925e-04 - val_accuracy: 0.9999 - lr: 1.0000e-05\n",
      "Epoch 41/50\n",
      "4336/4337 [============================>.] - ETA: 0s - loss: 4.1884e-04 - accuracy: 0.9999\n",
      "Epoch 41: saving model to /kaggle/output\n",
      "4337/4337 [==============================] - 140s 32ms/step - loss: 4.1875e-04 - accuracy: 0.9999 - val_loss: 0.0015 - val_accuracy: 0.9995 - lr: 1.0000e-05\n",
      "Epoch 42/50\n",
      "4336/4337 [============================>.] - ETA: 0s - loss: 3.1969e-04 - accuracy: 0.9999\n",
      "Epoch 42: saving model to /kaggle/output\n",
      "4337/4337 [==============================] - 137s 32ms/step - loss: 3.1962e-04 - accuracy: 0.9999 - val_loss: 5.9651e-05 - val_accuracy: 1.0000 - lr: 1.0000e-05\n",
      "Epoch 43/50\n",
      "4335/4337 [============================>.] - ETA: 0s - loss: 3.1456e-04 - accuracy: 0.9999\n",
      "Epoch 43: saving model to /kaggle/output\n",
      "4337/4337 [==============================] - 135s 31ms/step - loss: 3.1442e-04 - accuracy: 0.9999 - val_loss: 6.3430e-05 - val_accuracy: 1.0000 - lr: 1.0000e-05\n",
      "Epoch 44/50\n",
      "4337/4337 [==============================] - ETA: 0s - loss: 3.0556e-04 - accuracy: 0.9999\n",
      "Epoch 44: saving model to /kaggle/output\n",
      "4337/4337 [==============================] - 135s 31ms/step - loss: 3.0556e-04 - accuracy: 0.9999 - val_loss: 0.0037 - val_accuracy: 0.9988 - lr: 1.0000e-05\n",
      "Epoch 45/50\n",
      "4337/4337 [==============================] - ETA: 0s - loss: 2.1368e-04 - accuracy: 1.0000\n",
      "Epoch 45: saving model to /kaggle/output\n",
      "4337/4337 [==============================] - 134s 31ms/step - loss: 2.1368e-04 - accuracy: 1.0000 - val_loss: 2.2794e-05 - val_accuracy: 1.0000 - lr: 1.0000e-05\n",
      "Epoch 46/50\n",
      "4336/4337 [============================>.] - ETA: 0s - loss: 3.5480e-04 - accuracy: 0.9999\n",
      "Epoch 46: saving model to /kaggle/output\n",
      "4337/4337 [==============================] - 135s 31ms/step - loss: 3.5472e-04 - accuracy: 0.9999 - val_loss: 2.7481e-05 - val_accuracy: 1.0000 - lr: 1.0000e-05\n",
      "Epoch 47/50\n",
      "4336/4337 [============================>.] - ETA: 0s - loss: 2.7046e-04 - accuracy: 0.9999\n",
      "Epoch 47: ReduceLROnPlateau reducing learning rate to 9.999999747378752e-07.\n",
      "\n",
      "Epoch 47: saving model to /kaggle/output\n",
      "4337/4337 [==============================] - 134s 31ms/step - loss: 2.7040e-04 - accuracy: 0.9999 - val_loss: 1.4434e-05 - val_accuracy: 1.0000 - lr: 1.0000e-05\n",
      "Epoch 48/50\n",
      "4336/4337 [============================>.] - ETA: 0s - loss: 2.2274e-04 - accuracy: 0.9999\n",
      "Epoch 48: saving model to /kaggle/output\n",
      "4337/4337 [==============================] - 133s 31ms/step - loss: 2.2269e-04 - accuracy: 0.9999 - val_loss: 8.6928e-06 - val_accuracy: 1.0000 - lr: 1.0000e-06\n",
      "Epoch 49/50\n",
      "4337/4337 [==============================] - ETA: 0s - loss: 1.8679e-04 - accuracy: 1.0000\n",
      "Epoch 49: saving model to /kaggle/output\n",
      "4337/4337 [==============================] - 133s 31ms/step - loss: 1.8679e-04 - accuracy: 1.0000 - val_loss: 8.1530e-06 - val_accuracy: 1.0000 - lr: 1.0000e-06\n",
      "Epoch 50/50\n",
      "4337/4337 [==============================] - ETA: 0s - loss: 1.6644e-04 - accuracy: 1.0000\n",
      "Epoch 50: saving model to /kaggle/output\n",
      "4337/4337 [==============================] - 135s 31ms/step - loss: 1.6644e-04 - accuracy: 1.0000 - val_loss: 7.4233e-06 - val_accuracy: 1.0000 - lr: 1.0000e-06\n"
     ]
    }
   ],
   "source": [
    "model,callbacks=create_model((50,50,3))\n",
    "model.summary()\n",
    "#Fit model\n",
    "history = model.fit(\n",
    "      train_generator,\n",
    "      epochs=50,\n",
    "      verbose=1,\n",
    "      validation_data = validation_generator,callbacks=callbacks)\n"
   ]
  },
  {
   "cell_type": "code",
   "execution_count": 13,
   "id": "264f5a7a",
   "metadata": {
    "execution": {
     "iopub.execute_input": "2024-03-10T08:00:27.465065Z",
     "iopub.status.busy": "2024-03-10T08:00:27.464682Z",
     "iopub.status.idle": "2024-03-10T08:00:27.693071Z",
     "shell.execute_reply": "2024-03-10T08:00:27.692182Z"
    },
    "papermill": {
     "duration": 8.355572,
     "end_time": "2024-03-10T08:00:27.695321",
     "exception": false,
     "start_time": "2024-03-10T08:00:19.339749",
     "status": "completed"
    },
    "tags": []
   },
   "outputs": [
    {
     "data": {
      "image/png": "[encoded data removed]",
      "text/plain": [
       "<Figure size 640x480 with 1 Axes>"
      ]
     },
     "metadata": {},
     "output_type": "display_data"
    }
   ],
   "source": [
    "import matplotlib.pyplot as plt\n",
    "acc = history.history['accuracy']\n",
    "val_acc = history.history['val_accuracy']\n",
    "loss = history.history['loss']\n",
    "val_loss = history.history['val_loss']\n",
    "\n",
    "epochs = range(len(acc))\n",
    "\n",
    "plt.plot(epochs, acc, 'r', label='Training accuracy', markersize=5)\n",
    "plt.plot(epochs, val_acc, 'b', label='Validation accuracy', markersize=5)\n",
    "plt.grid(True)\n",
    "plt.xlabel('Epochs', fontsize=12, fontweight='bold')  # Bold and increase font size for x-axis label\n",
    "plt.ylabel('Accuracy', fontsize=12, fontweight='bold')  # Bold and increase font size for y-axis label\n",
    "plt.legend(loc='lower right')\n",
    "plt.show()\n",
    "\n"
   ]
  },
  {
   "cell_type": "code",
   "execution_count": 14,
   "id": "4fe40850",
   "metadata": {
    "execution": {
     "iopub.execute_input": "2024-03-10T08:00:43.992911Z",
     "iopub.status.busy": "2024-03-10T08:00:43.992289Z",
     "iopub.status.idle": "2024-03-10T08:00:44.190364Z",
     "shell.execute_reply": "2024-03-10T08:00:44.189562Z"
    },
    "papermill": {
     "duration": 8.229367,
     "end_time": "2024-03-10T08:00:44.192259",
     "exception": false,
     "start_time": "2024-03-10T08:00:35.962892",
     "status": "completed"
    },
    "tags": []
   },
   "outputs": [
    {
     "data": {
      "image/png": "[encoded data removed]",
      "text/plain": [
       "<Figure size 640x480 with 1 Axes>"
      ]
     },
     "metadata": {},
     "output_type": "display_data"
    }
   ],
   "source": [
    "plt.plot(epochs, loss, 'r', label='Training loss', markersize=5)  # Increase markersize\n",
    "plt.plot(epochs, val_loss, 'b', label='Validation loss', markersize=5)  # Increase markersize\n",
    "plt.xlabel('Epochs', fontsize=12, fontweight='bold')  # Bold and increase font size for x-axis label\n",
    "plt.ylabel('Accuracy', fontsize=12, fontweight='bold')  # Bold and increase font size for y-axis label\n",
    "plt.grid(True)  # Turn on grid\n",
    "plt.legend(loc=0)\n",
    "plt.show()\n"
   ]
  }
 ],
 "metadata": {
  "kaggle": {
   "accelerator": "gpu",
   "dataSources": [
    {
     "datasetId": 7415,
     "sourceId": 10564,
     "sourceType": "datasetVersion"
    }
   ],
   "dockerImageVersionId": 30648,
   "isGpuEnabled": true,
   "isInternetEnabled": true,
   "language": "python",
   "sourceType": "notebook"
  },
  "kernelspec": {
   "display_name": "Python 3",
   "language": "python",
   "name": "python3"
  },
  "language_info": {
   "codemirror_mode": {
    "name": "ipython",
    "version": 3
   },
   "file_extension": ".py",
   "mimetype": "text/x-python",
   "name": "python",
   "nbconvert_exporter": "python",
   "pygments_lexer": "ipython3",
   "version": "3.10.13"
  },
  "papermill": {
   "default_parameters": {},
   "duration": 7939.457879,
   "end_time": "2024-03-10T08:00:55.222963",
   "environment_variables": {},
   "exception": null,
   "input_path": "__notebook__.ipynb",
   "output_path": "__notebook__.ipynb",
   "parameters": {},
   "start_time": "2024-03-10T05:48:35.765084",
   "version": "2.5.0"
  }
 },
 "nbformat": 4,
 "nbformat_minor": 5
}
